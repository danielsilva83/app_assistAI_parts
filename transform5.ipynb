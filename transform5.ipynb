{
 "cells": [
  {
   "cell_type": "code",
   "execution_count": 2,
   "metadata": {},
   "outputs": [
    {
     "ename": "ModuleNotFoundError",
     "evalue": "No module named 'joblib'",
     "output_type": "error",
     "traceback": [
      "\u001b[1;31m---------------------------------------------------------------------------\u001b[0m",
      "\u001b[1;31mModuleNotFoundError\u001b[0m                       Traceback (most recent call last)",
      "Cell \u001b[1;32mIn[2], line 3\u001b[0m\n\u001b[0;32m      1\u001b[0m \u001b[38;5;28;01mfrom\u001b[39;00m \u001b[38;5;21;01mflask\u001b[39;00m \u001b[38;5;28;01mimport\u001b[39;00m Flask, request, render_template\n\u001b[0;32m      2\u001b[0m \u001b[38;5;28;01mimport\u001b[39;00m \u001b[38;5;21;01mtorch\u001b[39;00m\n\u001b[1;32m----> 3\u001b[0m \u001b[38;5;28;01mimport\u001b[39;00m \u001b[38;5;21;01mjoblib\u001b[39;00m\n\u001b[0;32m      4\u001b[0m \u001b[38;5;28;01mimport\u001b[39;00m \u001b[38;5;21;01mnumpy\u001b[39;00m \u001b[38;5;28;01mas\u001b[39;00m \u001b[38;5;21;01mnp\u001b[39;00m\n\u001b[0;32m      5\u001b[0m \u001b[38;5;28;01mimport\u001b[39;00m \u001b[38;5;21;01mpandas\u001b[39;00m \u001b[38;5;28;01mas\u001b[39;00m \u001b[38;5;21;01mpd\u001b[39;00m\n",
      "\u001b[1;31mModuleNotFoundError\u001b[0m: No module named 'joblib'"
     ]
    }
   ],
   "source": [
    "from flask import Flask, request, render_template\n",
    "import torch\n",
    "import joblib\n",
    "import numpy as np\n",
    "import pandas as pd\n",
    "from transformers import BertTokenizer, BertModel\n",
    "from tensorflow.keras.models import load_model"
   ]
  },
  {
   "cell_type": "code",
   "execution_count": 16,
   "metadata": {},
   "outputs": [],
   "source": [
    "import pandas as pd\n",
    "import tensorflow as tf\n",
    "from sklearn.model_selection import train_test_split\n",
    "from tensorflow.keras.layers import Dense, Input\n",
    "from tensorflow.keras.models import Model,Sequential, load_model\n",
    "from sklearn.metrics import mean_absolute_error, mean_squared_error, r2_score\n",
    "from tensorflow.keras.layers import Input, Dense, Layer\n",
    "import matplotlib.pyplot as plt\n",
    "import seaborn as sns\n",
    "from sklearn.utils import resample\n",
    "import numpy as np\n",
    "from memory_profiler import memory_usage\n",
    "from sklearn.preprocessing import StandardScaler, OneHotEncoder\n",
    "from sklearn.compose import ColumnTransformer\n",
    "from sklearn.pipeline import Pipeline\n",
    "from transformers import BertTokenizer, BertModel\n",
    "import torch\n",
    "from tensorflow.keras.layers import  Dropout\n",
    "from tensorflow.keras.regularizers import l2\n",
    "from sklearn.preprocessing import LabelEncoder\n",
    "import joblib\n",
    "import gc\n",
    "import os\n",
    "from scipy.sparse import csr_matrix\n",
    "import h5py\n",
    "from tensorflow.keras.utils import Sequence\n",
    "from imblearn.over_sampling import RandomOverSampler\n",
    "from tensorflow.keras.layers import BatchNormalization\n",
    "from tensorflow.keras.callbacks import EarlyStopping, ReduceLROnPlateau"
   ]
  },
  {
   "cell_type": "code",
   "execution_count": 2,
   "metadata": {},
   "outputs": [],
   "source": [
    "def load_and_preprocess_data(file_path):\n",
    "    \n",
    "  data = pd.read_csv(file_path, sep=',')\n",
    "  return data"
   ]
  },
  {
   "cell_type": "code",
   "execution_count": 148,
   "metadata": {},
   "outputs": [],
   "source": [
    "df = load_and_preprocess_data('C:\\\\Users\\\\daniel.silva\\\\Documents\\\\cits\\\\desafio I\\\\amostra\\\\amostra_completa_10000.csv')"
   ]
  },
  {
   "cell_type": "code",
   "execution_count": 149,
   "metadata": {},
   "outputs": [],
   "source": [
    "df1 = load_and_preprocess_data('C:\\\\Users\\\\daniel.silva\\\\Documents\\\\cits\\\\desafio I\\\\amostra\\\\amostra_completa_5000.csv')"
   ]
  },
  {
   "cell_type": "code",
   "execution_count": 4,
   "metadata": {},
   "outputs": [
    {
     "data": {
      "text/html": [
       "<div>\n",
       "<style scoped>\n",
       "    .dataframe tbody tr th:only-of-type {\n",
       "        vertical-align: middle;\n",
       "    }\n",
       "\n",
       "    .dataframe tbody tr th {\n",
       "        vertical-align: top;\n",
       "    }\n",
       "\n",
       "    .dataframe thead th {\n",
       "        text-align: right;\n",
       "    }\n",
       "</style>\n",
       "<table border=\"1\" class=\"dataframe\">\n",
       "  <thead>\n",
       "    <tr style=\"text-align: right;\">\n",
       "      <th></th>\n",
       "      <th>abertura_id</th>\n",
       "      <th>modelo</th>\n",
       "      <th>problema</th>\n",
       "      <th>tipo_equipamento</th>\n",
       "      <th>codigo_solicitado</th>\n",
       "      <th>cod_solic_desc</th>\n",
       "      <th>rn</th>\n",
       "    </tr>\n",
       "  </thead>\n",
       "  <tbody>\n",
       "    <tr>\n",
       "      <th>0</th>\n",
       "      <td>7787011</td>\n",
       "      <td>59852</td>\n",
       "      <td>SINTOMA: FALHA ESTABILIZADOR\\r\\n\\r\\nHORARIO AT...</td>\n",
       "      <td>DESKTOP</td>\n",
       "      <td>11073142</td>\n",
       "      <td>ESTAB 500VA/500W EXS II 500B PR ENERMAX</td>\n",
       "      <td>1</td>\n",
       "    </tr>\n",
       "    <tr>\n",
       "      <th>1</th>\n",
       "      <td>10234175</td>\n",
       "      <td>60595</td>\n",
       "      <td>S: REINICIANDO \\r\\nRESPONSAVEL: THYAGO AMORIM ...</td>\n",
       "      <td>DESKTOP</td>\n",
       "      <td>11074729</td>\n",
       "      <td>FONTE ATX 300W FSP300-60EGA(P76001) FSP</td>\n",
       "      <td>1</td>\n",
       "    </tr>\n",
       "    <tr>\n",
       "      <th>2</th>\n",
       "      <td>9854033</td>\n",
       "      <td>67546</td>\n",
       "      <td>MOTIVO: EQUIPAMENTO NAO LIGA.</td>\n",
       "      <td>DESKTOP</td>\n",
       "      <td>11074729</td>\n",
       "      <td>FONTE ATX 300W FSP300-60EGA(P76001) FSP</td>\n",
       "      <td>2</td>\n",
       "    </tr>\n",
       "    <tr>\n",
       "      <th>3</th>\n",
       "      <td>9825095</td>\n",
       "      <td>67546</td>\n",
       "      <td>EM VISITA A SETOR FOI VERIFICADO QUE O COMPUTA...</td>\n",
       "      <td>DESKTOP</td>\n",
       "      <td>11074729</td>\n",
       "      <td>FONTE ATX 300W FSP300-60EGA(P76001) FSP</td>\n",
       "      <td>3</td>\n",
       "    </tr>\n",
       "    <tr>\n",
       "      <th>4</th>\n",
       "      <td>8743232</td>\n",
       "      <td>67546</td>\n",
       "      <td>EQUIPAMENTO DESLIGANDO AP?S ALGUNS MINUTOS, NE...</td>\n",
       "      <td>DESKTOP</td>\n",
       "      <td>11074729</td>\n",
       "      <td>FONTE ATX 300W FSP300-60EGA(P76001) FSP</td>\n",
       "      <td>4</td>\n",
       "    </tr>\n",
       "    <tr>\n",
       "      <th>...</th>\n",
       "      <td>...</td>\n",
       "      <td>...</td>\n",
       "      <td>...</td>\n",
       "      <td>...</td>\n",
       "      <td>...</td>\n",
       "      <td>...</td>\n",
       "      <td>...</td>\n",
       "    </tr>\n",
       "    <tr>\n",
       "      <th>4824</th>\n",
       "      <td>10614225</td>\n",
       "      <td>58702</td>\n",
       "      <td>DEFEITO: PROBLEMA NO SSD\\r\\n\\r\\nN?CLEO REGIONA...</td>\n",
       "      <td>DESKTOP</td>\n",
       "      <td>11133341</td>\n",
       "      <td>SSD 256GB SATAIII CV8-CE256-V03 LITEO</td>\n",
       "      <td>26</td>\n",
       "    </tr>\n",
       "    <tr>\n",
       "      <th>4825</th>\n",
       "      <td>10608424</td>\n",
       "      <td>66284</td>\n",
       "      <td>S?RIE DO COMPUTADOR: 4A826FW0X\\r\\n- DEFEITO AP...</td>\n",
       "      <td>DESKTOP</td>\n",
       "      <td>11133341</td>\n",
       "      <td>SSD 256GB SATAIII CV8-CE256-V03 LITEO</td>\n",
       "      <td>27</td>\n",
       "    </tr>\n",
       "    <tr>\n",
       "      <th>4826</th>\n",
       "      <td>10550166</td>\n",
       "      <td>50920</td>\n",
       "      <td>CONTATO POR E-MAIL\\r\\n\\r\\nEQUIPAMENTO EST? APR...</td>\n",
       "      <td>DESKTOP</td>\n",
       "      <td>11133341</td>\n",
       "      <td>SSD 256GB SATAIII CV8-CE256-V03 LITEO</td>\n",
       "      <td>28</td>\n",
       "    </tr>\n",
       "    <tr>\n",
       "      <th>4827</th>\n",
       "      <td>10449761</td>\n",
       "      <td>78272</td>\n",
       "      <td>REALIZADO TESTE DE BANCADA E VERIFICADO PROBLE...</td>\n",
       "      <td>DESKTOP</td>\n",
       "      <td>11133341</td>\n",
       "      <td>SSD 256GB SATAIII CV8-CE256-V03 LITEO</td>\n",
       "      <td>29</td>\n",
       "    </tr>\n",
       "    <tr>\n",
       "      <th>4828</th>\n",
       "      <td>10449761</td>\n",
       "      <td>78272</td>\n",
       "      <td>REALIZADO TESTE DE BANCADA E VERIFICADO PROBLE...</td>\n",
       "      <td>DESKTOP</td>\n",
       "      <td>11133341</td>\n",
       "      <td>SSD 256GB SATAIII CV8-CE256-V03 LITEO</td>\n",
       "      <td>30</td>\n",
       "    </tr>\n",
       "  </tbody>\n",
       "</table>\n",
       "<p>4829 rows × 7 columns</p>\n",
       "</div>"
      ],
      "text/plain": [
       "      abertura_id  modelo                                           problema  \\\n",
       "0         7787011   59852  SINTOMA: FALHA ESTABILIZADOR\\r\\n\\r\\nHORARIO AT...   \n",
       "1        10234175   60595  S: REINICIANDO \\r\\nRESPONSAVEL: THYAGO AMORIM ...   \n",
       "2         9854033   67546                     MOTIVO: EQUIPAMENTO NAO LIGA.    \n",
       "3         9825095   67546  EM VISITA A SETOR FOI VERIFICADO QUE O COMPUTA...   \n",
       "4         8743232   67546  EQUIPAMENTO DESLIGANDO AP?S ALGUNS MINUTOS, NE...   \n",
       "...           ...     ...                                                ...   \n",
       "4824     10614225   58702  DEFEITO: PROBLEMA NO SSD\\r\\n\\r\\nN?CLEO REGIONA...   \n",
       "4825     10608424   66284  S?RIE DO COMPUTADOR: 4A826FW0X\\r\\n- DEFEITO AP...   \n",
       "4826     10550166   50920  CONTATO POR E-MAIL\\r\\n\\r\\nEQUIPAMENTO EST? APR...   \n",
       "4827     10449761   78272  REALIZADO TESTE DE BANCADA E VERIFICADO PROBLE...   \n",
       "4828     10449761   78272  REALIZADO TESTE DE BANCADA E VERIFICADO PROBLE...   \n",
       "\n",
       "     tipo_equipamento  codigo_solicitado  \\\n",
       "0             DESKTOP           11073142   \n",
       "1             DESKTOP           11074729   \n",
       "2             DESKTOP           11074729   \n",
       "3             DESKTOP           11074729   \n",
       "4             DESKTOP           11074729   \n",
       "...               ...                ...   \n",
       "4824          DESKTOP           11133341   \n",
       "4825          DESKTOP           11133341   \n",
       "4826          DESKTOP           11133341   \n",
       "4827          DESKTOP           11133341   \n",
       "4828          DESKTOP           11133341   \n",
       "\n",
       "                               cod_solic_desc  rn  \n",
       "0     ESTAB 500VA/500W EXS II 500B PR ENERMAX   1  \n",
       "1     FONTE ATX 300W FSP300-60EGA(P76001) FSP   1  \n",
       "2     FONTE ATX 300W FSP300-60EGA(P76001) FSP   2  \n",
       "3     FONTE ATX 300W FSP300-60EGA(P76001) FSP   3  \n",
       "4     FONTE ATX 300W FSP300-60EGA(P76001) FSP   4  \n",
       "...                                       ...  ..  \n",
       "4824    SSD 256GB SATAIII CV8-CE256-V03 LITEO  26  \n",
       "4825    SSD 256GB SATAIII CV8-CE256-V03 LITEO  27  \n",
       "4826    SSD 256GB SATAIII CV8-CE256-V03 LITEO  28  \n",
       "4827    SSD 256GB SATAIII CV8-CE256-V03 LITEO  29  \n",
       "4828    SSD 256GB SATAIII CV8-CE256-V03 LITEO  30  \n",
       "\n",
       "[4829 rows x 7 columns]"
      ]
     },
     "execution_count": 4,
     "metadata": {},
     "output_type": "execute_result"
    }
   ],
   "source": [
    "df"
   ]
  },
  {
   "cell_type": "code",
   "execution_count": null,
   "metadata": {},
   "outputs": [],
   "source": [
    "df = df.drop_duplicates(subset=['codigo_solicitado'], keep='last')\n",
    "df"
   ]
  },
  {
   "cell_type": "code",
   "execution_count": 150,
   "metadata": {},
   "outputs": [],
   "source": [
    "colunas_desejadas = ['abertura_id','codigo_solicitado','modelo', 'problema', 'tipo_equipamento']\n",
    "df = df[colunas_desejadas]"
   ]
  },
  {
   "cell_type": "code",
   "execution_count": 151,
   "metadata": {},
   "outputs": [],
   "source": [
    "df['codigo_solicitado'] = df['codigo_solicitado'].replace('NÃO DEFINIDO', np.nan)\n",
    "\n",
    "# Remover as linhas onde 'codigo_solicitado' é NaN\n",
    "df = df.dropna(subset=['codigo_solicitado'])\n",
    "\n",
    "# Preenche ou remover valores nulos, conforme apropriado\n",
    "df.fillna('', inplace=True)\n",
    "\n",
    "# Remove linhas duplicadas\n",
    "df.drop_duplicates(inplace=True)\n"
   ]
  },
  {
   "cell_type": "code",
   "execution_count": 7,
   "metadata": {},
   "outputs": [],
   "source": [
    "# Defini a variável target e os features\n",
    "X = df.drop(columns=['codigo_solicitado'])\n",
    "y = df['codigo_solicitado']\n",
    "\n",
    "# Aplica o oversampling\n",
    "ros = RandomOverSampler()\n",
    "X_resampled, y_resampled = ros.fit_resample(X, y)\n",
    "\n",
    "# Converte de volta para dataframe\n",
    "df_resampled = pd.DataFrame(X_resampled, columns=X.columns)\n",
    "df_resampled['codigo_solicitado'] = y_resampled\n",
    "\n"
   ]
  },
  {
   "cell_type": "code",
   "execution_count": null,
   "metadata": {},
   "outputs": [],
   "source": [
    "df_resampled = df_resampled.drop_duplicates(subset=['codigo_solicitado'], keep='last')\n",
    "df_resampled"
   ]
  },
  {
   "cell_type": "code",
   "execution_count": 8,
   "metadata": {},
   "outputs": [
    {
     "data": {
      "text/html": [
       "<div>\n",
       "<style scoped>\n",
       "    .dataframe tbody tr th:only-of-type {\n",
       "        vertical-align: middle;\n",
       "    }\n",
       "\n",
       "    .dataframe tbody tr th {\n",
       "        vertical-align: top;\n",
       "    }\n",
       "\n",
       "    .dataframe thead th {\n",
       "        text-align: right;\n",
       "    }\n",
       "</style>\n",
       "<table border=\"1\" class=\"dataframe\">\n",
       "  <thead>\n",
       "    <tr style=\"text-align: right;\">\n",
       "      <th></th>\n",
       "      <th>abertura_id</th>\n",
       "      <th>modelo</th>\n",
       "      <th>problema</th>\n",
       "      <th>tipo_equipamento</th>\n",
       "    </tr>\n",
       "  </thead>\n",
       "  <tbody>\n",
       "    <tr>\n",
       "      <th>0</th>\n",
       "      <td>7787011</td>\n",
       "      <td>59852</td>\n",
       "      <td>SINTOMA: FALHA ESTABILIZADOR\\r\\n\\r\\nHORARIO AT...</td>\n",
       "      <td>DESKTOP</td>\n",
       "    </tr>\n",
       "    <tr>\n",
       "      <th>1</th>\n",
       "      <td>10234175</td>\n",
       "      <td>60595</td>\n",
       "      <td>S: REINICIANDO \\r\\nRESPONSAVEL: THYAGO AMORIM ...</td>\n",
       "      <td>DESKTOP</td>\n",
       "    </tr>\n",
       "    <tr>\n",
       "      <th>2</th>\n",
       "      <td>9854033</td>\n",
       "      <td>67546</td>\n",
       "      <td>MOTIVO: EQUIPAMENTO NAO LIGA.</td>\n",
       "      <td>DESKTOP</td>\n",
       "    </tr>\n",
       "    <tr>\n",
       "      <th>3</th>\n",
       "      <td>9825095</td>\n",
       "      <td>67546</td>\n",
       "      <td>EM VISITA A SETOR FOI VERIFICADO QUE O COMPUTA...</td>\n",
       "      <td>DESKTOP</td>\n",
       "    </tr>\n",
       "    <tr>\n",
       "      <th>4</th>\n",
       "      <td>8743232</td>\n",
       "      <td>67546</td>\n",
       "      <td>EQUIPAMENTO DESLIGANDO AP?S ALGUNS MINUTOS, NE...</td>\n",
       "      <td>DESKTOP</td>\n",
       "    </tr>\n",
       "    <tr>\n",
       "      <th>...</th>\n",
       "      <td>...</td>\n",
       "      <td>...</td>\n",
       "      <td>...</td>\n",
       "      <td>...</td>\n",
       "    </tr>\n",
       "    <tr>\n",
       "      <th>164251</th>\n",
       "      <td>10761939</td>\n",
       "      <td>66284</td>\n",
       "      <td>DEFEITO: TRAVANDO , NAO REPONDE\\r\\n\\r\\nQUADRA ...</td>\n",
       "      <td>DESKTOP</td>\n",
       "    </tr>\n",
       "    <tr>\n",
       "      <th>164252</th>\n",
       "      <td>11080761</td>\n",
       "      <td>66284</td>\n",
       "      <td>FIM DA GARANTIA: 08/06/2023\\r\\nN? S?RIE: 4A826...</td>\n",
       "      <td>DESKTOP</td>\n",
       "    </tr>\n",
       "    <tr>\n",
       "      <th>164253</th>\n",
       "      <td>11376922</td>\n",
       "      <td>70804</td>\n",
       "      <td>S: NÃO INICIALIZA (BIPANDO) / TECLADO FALHANDO...</td>\n",
       "      <td>DESKTOP</td>\n",
       "    </tr>\n",
       "    <tr>\n",
       "      <th>164254</th>\n",
       "      <td>10661048</td>\n",
       "      <td>69071</td>\n",
       "      <td>DEFEITO: COMPUTADOR NAO SE CONECTA NAO INTERNE...</td>\n",
       "      <td>DESKTOP</td>\n",
       "    </tr>\n",
       "    <tr>\n",
       "      <th>164255</th>\n",
       "      <td>10668468</td>\n",
       "      <td>66284</td>\n",
       "      <td>ATENDIMENTO VIA E-MAIL.\\r\\n\\r\\nPATRIM?NIO: 148...</td>\n",
       "      <td>DESKTOP</td>\n",
       "    </tr>\n",
       "  </tbody>\n",
       "</table>\n",
       "<p>164256 rows × 4 columns</p>\n",
       "</div>"
      ],
      "text/plain": [
       "        abertura_id  modelo  \\\n",
       "0           7787011   59852   \n",
       "1          10234175   60595   \n",
       "2           9854033   67546   \n",
       "3           9825095   67546   \n",
       "4           8743232   67546   \n",
       "...             ...     ...   \n",
       "164251     10761939   66284   \n",
       "164252     11080761   66284   \n",
       "164253     11376922   70804   \n",
       "164254     10661048   69071   \n",
       "164255     10668468   66284   \n",
       "\n",
       "                                                 problema tipo_equipamento  \n",
       "0       SINTOMA: FALHA ESTABILIZADOR\\r\\n\\r\\nHORARIO AT...          DESKTOP  \n",
       "1       S: REINICIANDO \\r\\nRESPONSAVEL: THYAGO AMORIM ...          DESKTOP  \n",
       "2                          MOTIVO: EQUIPAMENTO NAO LIGA.           DESKTOP  \n",
       "3       EM VISITA A SETOR FOI VERIFICADO QUE O COMPUTA...          DESKTOP  \n",
       "4       EQUIPAMENTO DESLIGANDO AP?S ALGUNS MINUTOS, NE...          DESKTOP  \n",
       "...                                                   ...              ...  \n",
       "164251  DEFEITO: TRAVANDO , NAO REPONDE\\r\\n\\r\\nQUADRA ...          DESKTOP  \n",
       "164252  FIM DA GARANTIA: 08/06/2023\\r\\nN? S?RIE: 4A826...          DESKTOP  \n",
       "164253  S: NÃO INICIALIZA (BIPANDO) / TECLADO FALHANDO...          DESKTOP  \n",
       "164254  DEFEITO: COMPUTADOR NAO SE CONECTA NAO INTERNE...          DESKTOP  \n",
       "164255  ATENDIMENTO VIA E-MAIL.\\r\\n\\r\\nPATRIM?NIO: 148...          DESKTOP  \n",
       "\n",
       "[164256 rows x 4 columns]"
      ]
     },
     "execution_count": 8,
     "metadata": {},
     "output_type": "execute_result"
    }
   ],
   "source": [
    "df_resampled = df_resampled.drop(columns=['codigo_solicitado'])\n",
    "df_resampled\n"
   ]
  },
  {
   "cell_type": "code",
   "execution_count": 238,
   "metadata": {},
   "outputs": [],
   "source": [
    "# Concatenar as colunas de falha e solução\n",
    "df_resampled['descricao_solicitacao'] = df_resampled['tipo_equipamento']\n",
    "# Concatenar as colunas de falha e defeitos\n",
    "df_resampled['descricao_defeito'] = df_resampled['problema']\n"
   ]
  },
  {
   "cell_type": "code",
   "execution_count": 9,
   "metadata": {},
   "outputs": [],
   "source": [
    "X_resampled = df_resampled"
   ]
  },
  {
   "cell_type": "code",
   "execution_count": 10,
   "metadata": {},
   "outputs": [],
   "source": [
    "# Seleciona colunas numéricas e categóricas após o oversampling\n",
    "numerical_features =['abertura_id','modelo']\n",
    "#X_resampled.select_dtypes(include=['int64', 'float64']).columns.tolist()\n",
    "categorical_features = ['problema', 'tipo_equipamento']\n",
    "#X_resampled.select_dtypes(include=['object']).columns.tolist()\n",
    "\n",
    "# Remove a coluna 'cod_aplic' das colunas categóricas e numéricas, se estiver presente\n",
    "if 'codigo_solicitado' in categorical_features:\n",
    "    categorical_features.remove('codigo_solicitado')\n",
    "\n",
    "# Converter colunas categóricas para strings\n",
    "X_resampled[categorical_features] = X_resampled[categorical_features].astype(str)\n",
    "X_resampled[numerical_features] = X_resampled[numerical_features].astype(float)\n",
    "\n",
    "\n"
   ]
  },
  {
   "cell_type": "code",
   "execution_count": 11,
   "metadata": {},
   "outputs": [
    {
     "data": {
      "text/plain": [
       "device(type='cuda')"
      ]
     },
     "execution_count": 11,
     "metadata": {},
     "output_type": "execute_result"
    }
   ],
   "source": [
    "# Verifica se a GPU está disponível\n",
    "device = torch.device('cuda' if torch.cuda.is_available() else 'cpu')\n",
    "\n",
    "device"
   ]
  },
  {
   "cell_type": "code",
   "execution_count": 12,
   "metadata": {},
   "outputs": [
    {
     "name": "stderr",
     "output_type": "stream",
     "text": [
      "c:\\Users\\daniel.silva\\AppData\\Local\\anaconda3\\envs\\tensor\\lib\\site-packages\\transformers\\models\\bert\\modeling_bert.py:435: UserWarning: 1Torch was not compiled with flash attention. (Triggered internally at ..\\aten\\src\\ATen\\native\\transformers\\cuda\\sdp_utils.cpp:455.)\n",
      "  attn_output = torch.nn.functional.scaled_dot_product_attention(\n"
     ]
    }
   ],
   "source": [
    "# Carrega o tokenizer e o modelo BERT\n",
    "tokenizer = BertTokenizer.from_pretrained('bert-base-uncased')\n",
    "model = BertModel.from_pretrained('bert-base-uncased').to(device)\n",
    "\n",
    "# Função para extrair embeddings dos textos\n",
    "def get_bert_embeddings(texts, batch_size=32):\n",
    "    embeddings = []\n",
    "    for i in range(0, len(texts), batch_size):\n",
    "        batch_texts = texts[i:i+batch_size]\n",
    "        inputs = tokenizer(batch_texts, return_tensors='pt', truncation=True, padding=True, max_length=128).to(device)\n",
    "        # Desativa cálculo de gradiente para economizar memória\n",
    "        with torch.no_grad():  \n",
    "            outputs = model(**inputs)\n",
    "        batch_embeddings = outputs.last_hidden_state[:, 0, :].detach().cpu().numpy()\n",
    "        embeddings.append(batch_embeddings)\n",
    "        # Libera memória dos tensores intermediários\n",
    "        del inputs, outputs  \n",
    "        # Limpa cache da GPU\n",
    "        torch.cuda.empty_cache()  \n",
    "    return np.vstack(embeddings)\n",
    "\n",
    "# Aplica a função nos campos textuais em batches\n",
    "text_columns = [ 'problema','tipo_equipamento']\n",
    "text_embeddings = []\n",
    "\n",
    "for column in text_columns:\n",
    "    embeddings = get_bert_embeddings(df_resampled[column].tolist(), batch_size=32)\n",
    "    text_embeddings.append(embeddings)\n",
    "\n",
    "# Concatenar os embeddings textuais em uma única matriz\n",
    "all_text_embeddings = np.hstack(text_embeddings)\n",
    "\n"
   ]
  },
  {
   "cell_type": "code",
   "execution_count": 13,
   "metadata": {},
   "outputs": [
    {
     "name": "stdout",
     "output_type": "stream",
     "text": [
      "         0        1         2         3         4         5         6     \\\n",
      "0   7787011.0  59852.0 -0.434043 -0.128523 -0.080875  0.075487 -0.313106   \n",
      "1  10234175.0  60595.0 -0.364637  0.238442  0.310628 -0.007814 -0.005606   \n",
      "2   9854033.0  67546.0 -0.705506  0.151037 -0.075066 -0.240621 -0.101037   \n",
      "3   9825095.0  67546.0 -0.409433  0.360150  0.515823  0.222343  0.334897   \n",
      "4   8743232.0  67546.0 -0.647501  0.093474 -0.191266  0.197877  0.277602   \n",
      "\n",
      "       7         8         9     ...      1528      1529      1530      1531  \\\n",
      "0 -0.167453  0.036150 -0.022040  ...  0.693512 -0.038778  0.397668  0.429285   \n",
      "1 -0.149041  0.199166  0.287044  ...  0.693512 -0.038778  0.397668  0.429285   \n",
      "2 -0.521336  0.165842  0.520402  ...  0.693512 -0.038778  0.397668  0.429285   \n",
      "3 -0.371513  0.406041  0.301816  ...  0.693512 -0.038778  0.397668  0.429285   \n",
      "4 -0.119848  0.613856  0.295715  ...  0.693512 -0.038778  0.397668  0.429285   \n",
      "\n",
      "       1532      1533      1534      1535      1536      1537  \n",
      "0  0.109033  0.023748 -0.190257 -0.502661  0.443521  0.630765  \n",
      "1  0.109033  0.023748 -0.190257 -0.502661  0.443521  0.630765  \n",
      "2  0.109033  0.023748 -0.190257 -0.502661  0.443521  0.630765  \n",
      "3  0.109033  0.023748 -0.190257 -0.502661  0.443521  0.630765  \n",
      "4  0.109033  0.023748 -0.190257 -0.502661  0.443521  0.630765  \n",
      "\n",
      "[5 rows x 1538 columns]\n"
     ]
    }
   ],
   "source": [
    "\n",
    "if X_resampled[numerical_features].shape[0] == all_text_embeddings.shape[0]:\n",
    "    X_final = np.hstack([X_resampled[numerical_features] , all_text_embeddings])\n",
    "else:\n",
    "    raise ValueError(\"Dimensões incompatíveis entre X_normalized e text embeddings.\")\n",
    "\n",
    "# Exibir as primeiras linhas do dataset final (convertido para um DataFrame denso para exibição)\n",
    "print(pd.DataFrame(X_final).head())"
   ]
  },
  {
   "cell_type": "code",
   "execution_count": 14,
   "metadata": {},
   "outputs": [],
   "source": [
    "# Criar transformadores\n",
    "numerical_transformer = StandardScaler()\n",
    "categorical_transformer = OneHotEncoder(handle_unknown='ignore')\n",
    "\n",
    "# Aplicar transformadores\n",
    "preprocessor = ColumnTransformer(\n",
    "    transformers=[\n",
    "        ('num', numerical_transformer, numerical_features),\n",
    "        ('cat', categorical_transformer, categorical_features)\n",
    "    ])"
   ]
  },
  {
   "cell_type": "code",
   "execution_count": 15,
   "metadata": {},
   "outputs": [],
   "source": [
    "scaler = StandardScaler()\n",
    "X_final = scaler.fit_transform(X_final)\n",
    "# Remapear os rótulos para garantir que estão no intervalo correto\n",
    "label_encoder = LabelEncoder()\n",
    "y_resampled = label_encoder.fit_transform(y_resampled)"
   ]
  },
  {
   "cell_type": "code",
   "execution_count": 17,
   "metadata": {},
   "outputs": [],
   "source": [
    "# Divisão dos dados em treino e validação\n",
    "X_train, X_val, y_train, y_val = train_test_split(X_final, y_resampled, test_size=0.2, random_state=42)\n"
   ]
  },
  {
   "cell_type": "code",
   "execution_count": 18,
   "metadata": {},
   "outputs": [],
   "source": [
    "num_classes = len(np.unique(y_resampled))\n",
    "\n",
    "# Definição do modelo ajustado\n",
    "model = Sequential()\n",
    "model.add(Input(shape=(X_train.shape[1],)))\n",
    "model.add(Dense(256, activation='relu', kernel_regularizer=l2(0.001)))\n",
    "model.add(BatchNormalization())\n",
    "model.add(Dropout(0.5))\n",
    "model.add(Dense(128, activation='relu', kernel_regularizer=l2(0.001)))\n",
    "model.add(BatchNormalization())\n",
    "model.add(Dropout(0.5))\n",
    "model.add(Dense(64, activation='relu', kernel_regularizer=l2(0.001)))\n",
    "model.add(BatchNormalization())\n",
    "model.add(Dense(num_classes, activation='softmax'))\n",
    "\n",
    "# Compilação do modelo\n",
    "model.compile(optimizer='adam', loss='sparse_categorical_crossentropy', metrics=['accuracy'])\n",
    "\n",
    "# Callbacks para monitorar o treinamento\n",
    "early_stopping = EarlyStopping(monitor='val_loss', patience=5, restore_best_weights=True)\n",
    "reduce_lr = ReduceLROnPlateau(monitor='val_loss', factor=0.2, patience=3, min_lr=0.0001)"
   ]
  },
  {
   "cell_type": "code",
   "execution_count": 20,
   "metadata": {},
   "outputs": [
    {
     "name": "stdout",
     "output_type": "stream",
     "text": [
      "Epoch 1/20\n",
      "\u001b[1m4107/4107\u001b[0m \u001b[32m━━━━━━━━━━━━━━━━━━━━\u001b[0m\u001b[37m\u001b[0m \u001b[1m12s\u001b[0m 3ms/step - accuracy: 0.4523 - loss: 2.6290 - val_accuracy: 0.7466 - val_loss: 1.1745 - learning_rate: 0.0010\n",
      "Epoch 2/20\n",
      "\u001b[1m4107/4107\u001b[0m \u001b[32m━━━━━━━━━━━━━━━━━━━━\u001b[0m\u001b[37m\u001b[0m \u001b[1m10s\u001b[0m 3ms/step - accuracy: 0.6687 - loss: 1.4458 - val_accuracy: 0.7905 - val_loss: 1.0470 - learning_rate: 0.0010\n",
      "Epoch 3/20\n",
      "\u001b[1m4107/4107\u001b[0m \u001b[32m━━━━━━━━━━━━━━━━━━━━\u001b[0m\u001b[37m\u001b[0m \u001b[1m11s\u001b[0m 3ms/step - accuracy: 0.6962 - loss: 1.3288 - val_accuracy: 0.7964 - val_loss: 0.9987 - learning_rate: 0.0010\n",
      "Epoch 4/20\n",
      "\u001b[1m4107/4107\u001b[0m \u001b[32m━━━━━━━━━━━━━━━━━━━━\u001b[0m\u001b[37m\u001b[0m \u001b[1m11s\u001b[0m 3ms/step - accuracy: 0.7131 - loss: 1.2703 - val_accuracy: 0.8039 - val_loss: 0.9460 - learning_rate: 0.0010\n",
      "Epoch 5/20\n",
      "\u001b[1m4107/4107\u001b[0m \u001b[32m━━━━━━━━━━━━━━━━━━━━\u001b[0m\u001b[37m\u001b[0m \u001b[1m12s\u001b[0m 3ms/step - accuracy: 0.7155 - loss: 1.2458 - val_accuracy: 0.8160 - val_loss: 0.9203 - learning_rate: 0.0010\n",
      "Epoch 6/20\n",
      "\u001b[1m4107/4107\u001b[0m \u001b[32m━━━━━━━━━━━━━━━━━━━━\u001b[0m\u001b[37m\u001b[0m \u001b[1m12s\u001b[0m 3ms/step - accuracy: 0.7188 - loss: 1.2240 - val_accuracy: 0.8053 - val_loss: 0.9083 - learning_rate: 0.0010\n",
      "Epoch 7/20\n",
      "\u001b[1m4107/4107\u001b[0m \u001b[32m━━━━━━━━━━━━━━━━━━━━\u001b[0m\u001b[37m\u001b[0m \u001b[1m12s\u001b[0m 3ms/step - accuracy: 0.7240 - loss: 1.1944 - val_accuracy: 0.8115 - val_loss: 0.9002 - learning_rate: 0.0010\n",
      "Epoch 8/20\n",
      "\u001b[1m4107/4107\u001b[0m \u001b[32m━━━━━━━━━━━━━━━━━━━━\u001b[0m\u001b[37m\u001b[0m \u001b[1m11s\u001b[0m 3ms/step - accuracy: 0.7285 - loss: 1.1888 - val_accuracy: 0.8045 - val_loss: 0.9199 - learning_rate: 0.0010\n",
      "Epoch 9/20\n",
      "\u001b[1m4107/4107\u001b[0m \u001b[32m━━━━━━━━━━━━━━━━━━━━\u001b[0m\u001b[37m\u001b[0m \u001b[1m12s\u001b[0m 3ms/step - accuracy: 0.7294 - loss: 1.1648 - val_accuracy: 0.8242 - val_loss: 0.8712 - learning_rate: 0.0010\n",
      "Epoch 10/20\n",
      "\u001b[1m4107/4107\u001b[0m \u001b[32m━━━━━━━━━━━━━━━━━━━━\u001b[0m\u001b[37m\u001b[0m \u001b[1m12s\u001b[0m 3ms/step - accuracy: 0.7311 - loss: 1.1589 - val_accuracy: 0.8169 - val_loss: 0.8548 - learning_rate: 0.0010\n",
      "Epoch 11/20\n",
      "\u001b[1m4107/4107\u001b[0m \u001b[32m━━━━━━━━━━━━━━━━━━━━\u001b[0m\u001b[37m\u001b[0m \u001b[1m12s\u001b[0m 3ms/step - accuracy: 0.7329 - loss: 1.1501 - val_accuracy: 0.8322 - val_loss: 0.8227 - learning_rate: 0.0010\n",
      "Epoch 12/20\n",
      "\u001b[1m4107/4107\u001b[0m \u001b[32m━━━━━━━━━━━━━━━━━━━━\u001b[0m\u001b[37m\u001b[0m \u001b[1m12s\u001b[0m 3ms/step - accuracy: 0.7329 - loss: 1.1369 - val_accuracy: 0.8202 - val_loss: 0.8735 - learning_rate: 0.0010\n",
      "Epoch 13/20\n",
      "\u001b[1m4107/4107\u001b[0m \u001b[32m━━━━━━━━━━━━━━━━━━━━\u001b[0m\u001b[37m\u001b[0m \u001b[1m12s\u001b[0m 3ms/step - accuracy: 0.7366 - loss: 1.1367 - val_accuracy: 0.8272 - val_loss: 0.8415 - learning_rate: 0.0010\n",
      "Epoch 14/20\n",
      "\u001b[1m4107/4107\u001b[0m \u001b[32m━━━━━━━━━━━━━━━━━━━━\u001b[0m\u001b[37m\u001b[0m \u001b[1m12s\u001b[0m 3ms/step - accuracy: 0.7334 - loss: 1.1353 - val_accuracy: 0.8220 - val_loss: 0.8167 - learning_rate: 0.0010\n",
      "Epoch 15/20\n",
      "\u001b[1m4107/4107\u001b[0m \u001b[32m━━━━━━━━━━━━━━━━━━━━\u001b[0m\u001b[37m\u001b[0m \u001b[1m11s\u001b[0m 3ms/step - accuracy: 0.7388 - loss: 1.1178 - val_accuracy: 0.8365 - val_loss: 0.8237 - learning_rate: 0.0010\n",
      "Epoch 16/20\n",
      "\u001b[1m4107/4107\u001b[0m \u001b[32m━━━━━━━━━━━━━━━━━━━━\u001b[0m\u001b[37m\u001b[0m \u001b[1m12s\u001b[0m 3ms/step - accuracy: 0.7434 - loss: 1.1000 - val_accuracy: 0.8390 - val_loss: 0.8244 - learning_rate: 0.0010\n",
      "Epoch 17/20\n",
      "\u001b[1m4107/4107\u001b[0m \u001b[32m━━━━━━━━━━━━━━━━━━━━\u001b[0m\u001b[37m\u001b[0m \u001b[1m12s\u001b[0m 3ms/step - accuracy: 0.7374 - loss: 1.1127 - val_accuracy: 0.8208 - val_loss: 0.8305 - learning_rate: 0.0010\n",
      "Epoch 18/20\n",
      "\u001b[1m4107/4107\u001b[0m \u001b[32m━━━━━━━━━━━━━━━━━━━━\u001b[0m\u001b[37m\u001b[0m \u001b[1m12s\u001b[0m 3ms/step - accuracy: 0.7997 - loss: 0.8802 - val_accuracy: 0.8718 - val_loss: 0.5838 - learning_rate: 2.0000e-04\n",
      "Epoch 19/20\n",
      "\u001b[1m4107/4107\u001b[0m \u001b[32m━━━━━━━━━━━━━━━━━━━━\u001b[0m\u001b[37m\u001b[0m \u001b[1m12s\u001b[0m 3ms/step - accuracy: 0.8243 - loss: 0.7106 - val_accuracy: 0.8793 - val_loss: 0.5089 - learning_rate: 2.0000e-04\n",
      "Epoch 20/20\n",
      "\u001b[1m4107/4107\u001b[0m \u001b[32m━━━━━━━━━━━━━━━━━━━━\u001b[0m\u001b[37m\u001b[0m \u001b[1m12s\u001b[0m 3ms/step - accuracy: 0.8313 - loss: 0.6525 - val_accuracy: 0.8859 - val_loss: 0.4664 - learning_rate: 2.0000e-04\n",
      "\u001b[1m1027/1027\u001b[0m \u001b[32m━━━━━━━━━━━━━━━━━━━━\u001b[0m\u001b[37m\u001b[0m \u001b[1m1s\u001b[0m 1ms/step - accuracy: 0.8859 - loss: 0.4675\n",
      "Validation Loss: 0.46643292903900146\n",
      "Validation Accuracy: 0.8859429955482483\n"
     ]
    }
   ],
   "source": [
    "# Treinamento do modelo usando os geradores\n",
    "history = model.fit(X_train, y_train, validation_data=(X_val, y_val), epochs=20, callbacks=[early_stopping, reduce_lr])\n",
    "\n",
    "# Avaliação do modelo\n",
    "loss, accuracy = model.evaluate(X_val, y_val)\n",
    "print(f\"Validation Loss: {loss}\")\n",
    "print(f\"Validation Accuracy: {accuracy}\")"
   ]
  },
  {
   "cell_type": "code",
   "execution_count": 21,
   "metadata": {},
   "outputs": [
    {
     "name": "stderr",
     "output_type": "stream",
     "text": [
      "WARNING:absl:You are saving your model as an HDF5 file via `model.save()` or `keras.saving.save_model(model)`. This file format is considered legacy. We recommend using instead the native Keras format, e.g. `model.save('my_model.keras')` or `keras.saving.save_model(model, 'my_model.keras')`. \n"
     ]
    },
    {
     "data": {
      "text/plain": [
       "['C:\\\\Users\\\\daniel.silva\\\\Documents\\\\cits\\\\desafio I\\\\resultado1\\\\label_encoder15.pkl']"
      ]
     },
     "execution_count": 21,
     "metadata": {},
     "output_type": "execute_result"
    }
   ],
   "source": [
    "# Salvando o modelo treinado\n",
    "model.save('C:\\\\Users\\\\daniel.silva\\\\Documents\\\\cits\\\\desafio I\\\\resultado1\\\\model15.h5')\n",
    "\n",
    "# Salvando o scaler e o encoder\n",
    "joblib.dump(scaler, 'C:\\\\Users\\\\daniel.silva\\\\Documents\\\\cits\\\\desafio I\\\\resultado1\\\\scaler15.pkl')\n",
    "joblib.dump(label_encoder, 'C:\\\\Users\\\\daniel.silva\\\\Documents\\\\cits\\\\desafio I\\\\resultado1\\\\label_encoder15.pkl')"
   ]
  },
  {
   "cell_type": "code",
   "execution_count": 83,
   "metadata": {},
   "outputs": [
    {
     "name": "stdout",
     "output_type": "stream",
     "text": [
      "Epoch 1/20\n",
      "\u001b[1m4107/4107\u001b[0m \u001b[32m━━━━━━━━━━━━━━━━━━━━\u001b[0m\u001b[37m\u001b[0m \u001b[1m15s\u001b[0m 3ms/step - accuracy: 0.4547 - loss: 3.0019 - val_accuracy: 0.7321 - val_loss: 1.4588\n",
      "Epoch 2/20\n",
      "\u001b[1m4107/4107\u001b[0m \u001b[32m━━━━━━━━━━━━━━━━━━━━\u001b[0m\u001b[37m\u001b[0m \u001b[1m14s\u001b[0m 3ms/step - accuracy: 0.6513 - loss: 1.7283 - val_accuracy: 0.7573 - val_loss: 1.3818\n",
      "Epoch 3/20\n",
      "\u001b[1m4107/4107\u001b[0m \u001b[32m━━━━━━━━━━━━━━━━━━━━\u001b[0m\u001b[37m\u001b[0m \u001b[1m15s\u001b[0m 4ms/step - accuracy: 0.6745 - loss: 1.6430 - val_accuracy: 0.7661 - val_loss: 1.3668\n",
      "Epoch 4/20\n",
      "\u001b[1m4107/4107\u001b[0m \u001b[32m━━━━━━━━━━━━━━━━━━━━\u001b[0m\u001b[37m\u001b[0m \u001b[1m16s\u001b[0m 4ms/step - accuracy: 0.6831 - loss: 1.6117 - val_accuracy: 0.7508 - val_loss: 1.3555\n",
      "Epoch 5/20\n",
      "\u001b[1m4107/4107\u001b[0m \u001b[32m━━━━━━━━━━━━━━━━━━━━\u001b[0m\u001b[37m\u001b[0m \u001b[1m16s\u001b[0m 4ms/step - accuracy: 0.6913 - loss: 1.5810 - val_accuracy: 0.7815 - val_loss: 1.2742\n",
      "Epoch 6/20\n",
      "\u001b[1m4107/4107\u001b[0m \u001b[32m━━━━━━━━━━━━━━━━━━━━\u001b[0m\u001b[37m\u001b[0m \u001b[1m16s\u001b[0m 4ms/step - accuracy: 0.6907 - loss: 1.5727 - val_accuracy: 0.7880 - val_loss: 1.2690\n",
      "Epoch 7/20\n",
      "\u001b[1m4107/4107\u001b[0m \u001b[32m━━━━━━━━━━━━━━━━━━━━\u001b[0m\u001b[37m\u001b[0m \u001b[1m16s\u001b[0m 4ms/step - accuracy: 0.6963 - loss: 1.5422 - val_accuracy: 0.7686 - val_loss: 1.2919\n",
      "Epoch 8/20\n",
      "\u001b[1m4107/4107\u001b[0m \u001b[32m━━━━━━━━━━━━━━━━━━━━\u001b[0m\u001b[37m\u001b[0m \u001b[1m16s\u001b[0m 4ms/step - accuracy: 0.6974 - loss: 1.5518 - val_accuracy: 0.7725 - val_loss: 1.2762\n",
      "Epoch 9/20\n",
      "\u001b[1m4107/4107\u001b[0m \u001b[32m━━━━━━━━━━━━━━━━━━━━\u001b[0m\u001b[37m\u001b[0m \u001b[1m16s\u001b[0m 4ms/step - accuracy: 0.7017 - loss: 1.5370 - val_accuracy: 0.7868 - val_loss: 1.2618\n",
      "Epoch 10/20\n",
      "\u001b[1m4107/4107\u001b[0m \u001b[32m━━━━━━━━━━━━━━━━━━━━\u001b[0m\u001b[37m\u001b[0m \u001b[1m17s\u001b[0m 4ms/step - accuracy: 0.7009 - loss: 1.5252 - val_accuracy: 0.7853 - val_loss: 1.2356\n",
      "Epoch 11/20\n",
      "\u001b[1m4107/4107\u001b[0m \u001b[32m━━━━━━━━━━━━━━━━━━━━\u001b[0m\u001b[37m\u001b[0m \u001b[1m16s\u001b[0m 4ms/step - accuracy: 0.7050 - loss: 1.4966 - val_accuracy: 0.7888 - val_loss: 1.2299\n",
      "Epoch 12/20\n",
      "\u001b[1m4107/4107\u001b[0m \u001b[32m━━━━━━━━━━━━━━━━━━━━\u001b[0m\u001b[37m\u001b[0m \u001b[1m16s\u001b[0m 4ms/step - accuracy: 0.7019 - loss: 1.4936 - val_accuracy: 0.7960 - val_loss: 1.2094\n",
      "Epoch 13/20\n",
      "\u001b[1m4107/4107\u001b[0m \u001b[32m━━━━━━━━━━━━━━━━━━━━\u001b[0m\u001b[37m\u001b[0m \u001b[1m16s\u001b[0m 4ms/step - accuracy: 0.7081 - loss: 1.4702 - val_accuracy: 0.8041 - val_loss: 1.1540\n",
      "Epoch 14/20\n",
      "\u001b[1m4107/4107\u001b[0m \u001b[32m━━━━━━━━━━━━━━━━━━━━\u001b[0m\u001b[37m\u001b[0m \u001b[1m16s\u001b[0m 4ms/step - accuracy: 0.7127 - loss: 1.4394 - val_accuracy: 0.7919 - val_loss: 1.1491\n",
      "Epoch 15/20\n",
      "\u001b[1m4107/4107\u001b[0m \u001b[32m━━━━━━━━━━━━━━━━━━━━\u001b[0m\u001b[37m\u001b[0m \u001b[1m16s\u001b[0m 4ms/step - accuracy: 0.7112 - loss: 1.4440 - val_accuracy: 0.7969 - val_loss: 1.1567\n",
      "Epoch 16/20\n",
      "\u001b[1m4107/4107\u001b[0m \u001b[32m━━━━━━━━━━━━━━━━━━━━\u001b[0m\u001b[37m\u001b[0m \u001b[1m16s\u001b[0m 4ms/step - accuracy: 0.7121 - loss: 1.4271 - val_accuracy: 0.7955 - val_loss: 1.1495\n",
      "Epoch 17/20\n",
      "\u001b[1m4107/4107\u001b[0m \u001b[32m━━━━━━━━━━━━━━━━━━━━\u001b[0m\u001b[37m\u001b[0m \u001b[1m16s\u001b[0m 4ms/step - accuracy: 0.7140 - loss: 1.4085 - val_accuracy: 0.7814 - val_loss: 1.1637\n",
      "Epoch 18/20\n",
      "\u001b[1m4107/4107\u001b[0m \u001b[32m━━━━━━━━━━━━━━━━━━━━\u001b[0m\u001b[37m\u001b[0m \u001b[1m16s\u001b[0m 4ms/step - accuracy: 0.7146 - loss: 1.3993 - val_accuracy: 0.7903 - val_loss: 1.1328\n",
      "Epoch 19/20\n",
      "\u001b[1m4107/4107\u001b[0m \u001b[32m━━━━━━━━━━━━━━━━━━━━\u001b[0m\u001b[37m\u001b[0m \u001b[1m16s\u001b[0m 4ms/step - accuracy: 0.7106 - loss: 1.4042 - val_accuracy: 0.7992 - val_loss: 1.0874\n",
      "Epoch 20/20\n",
      "\u001b[1m4107/4107\u001b[0m \u001b[32m━━━━━━━━━━━━━━━━━━━━\u001b[0m\u001b[37m\u001b[0m \u001b[1m17s\u001b[0m 4ms/step - accuracy: 0.7113 - loss: 1.3954 - val_accuracy: 0.8070 - val_loss: 1.0871\n"
     ]
    },
    {
     "name": "stderr",
     "output_type": "stream",
     "text": [
      "WARNING:absl:You are saving your model as an HDF5 file via `model.save()` or `keras.saving.save_model(model)`. This file format is considered legacy. We recommend using instead the native Keras format, e.g. `model.save('my_model.keras')` or `keras.saving.save_model(model, 'my_model.keras')`. \n"
     ]
    },
    {
     "data": {
      "text/plain": [
       "['C:\\\\Users\\\\daniel.silva\\\\Documents\\\\cits\\\\desafio I\\\\resultado1\\\\label_encoder11.pkl']"
      ]
     },
     "execution_count": 83,
     "metadata": {},
     "output_type": "execute_result"
    }
   ],
   "source": [
    "# Definição do modelo\n",
    "num_classes = len(np.unique(y_resampled))\n",
    "\n",
    "model = Sequential()\n",
    "model.add(Input(shape=(X_train.shape[1],)))\n",
    "model.add(Dense(512, activation='relu', kernel_regularizer=l2(0.001)))\n",
    "model.add(Dropout(0.5))\n",
    "model.add(Dense(256, activation='relu', kernel_regularizer=l2(0.001)))\n",
    "model.add(Dropout(0.5))\n",
    "model.add(Dense(128, activation='relu', kernel_regularizer=l2(0.001)))\n",
    "model.add(Dense(num_classes, activation='softmax'))\n",
    "\n",
    "\n",
    "# Compilação do modelo\n",
    "model.compile(optimizer='adam', loss='sparse_categorical_crossentropy', metrics=['accuracy'])\n",
    "# Treinamento do modelo\n",
    "history = model.fit(X_train, y_train, validation_data=(X_val, y_val), epochs=20)\n",
    "\n",
    "\n",
    "# Salvando o modelo treinado\n",
    "model.save('C:\\\\Users\\\\daniel.silva\\\\Documents\\\\cits\\\\desafio I\\\\resultado1\\\\model11.h5')\n",
    "\n",
    "# Salvando o scaler e o encoder\n",
    "joblib.dump(scaler, 'C:\\\\Users\\\\daniel.silva\\\\Documents\\\\cits\\\\desafio I\\\\resultado1\\\\scaler11.pkl')\n",
    "joblib.dump(label_encoder, 'C:\\\\Users\\\\daniel.silva\\\\Documents\\\\cits\\\\desafio I\\\\resultado1\\\\label_encoder11.pkl')"
   ]
  },
  {
   "cell_type": "code",
   "execution_count": 22,
   "metadata": {},
   "outputs": [
    {
     "name": "stdout",
     "output_type": "stream",
     "text": [
      "\u001b[1m1027/1027\u001b[0m \u001b[32m━━━━━━━━━━━━━━━━━━━━\u001b[0m\u001b[37m\u001b[0m \u001b[1m1s\u001b[0m 820us/step - accuracy: 0.8859 - loss: 0.4675\n",
      "Validation Loss: 0.46643292903900146\n",
      "Validation Accuracy: 0.8859429955482483\n"
     ]
    }
   ],
   "source": [
    "# Avaliação do modelo\n",
    "loss, accuracy = model.evaluate(X_val, y_val)\n",
    "print(f\"Validation Loss: {loss}\")\n",
    "print(f\"Validation Accuracy: {accuracy}\")"
   ]
  },
  {
   "cell_type": "code",
   "execution_count": null,
   "metadata": {},
   "outputs": [],
   "source": [
    " # Libera a memória\n",
    "#del all_text_embeddings\n",
    "#gc.collect()"
   ]
  },
  {
   "cell_type": "code",
   "execution_count": 23,
   "metadata": {},
   "outputs": [
    {
     "data": {
      "image/png": "[encoded data removed]",
      "text/plain": [
       "<Figure size 640x480 with 1 Axes>"
      ]
     },
     "metadata": {},
     "output_type": "display_data"
    },
    {
     "data": {
      "image/png": "[encoded data removed]",
      "text/plain": [
       "<Figure size 640x480 with 1 Axes>"
      ]
     },
     "metadata": {},
     "output_type": "display_data"
    }
   ],
   "source": [
    "import matplotlib.pyplot as plt\n",
    "\n",
    "plt.plot(history.history['loss'], label='Training Loss')\n",
    "plt.plot(history.history['val_loss'], label='Validation Loss')\n",
    "plt.xlabel('Epochs')\n",
    "plt.ylabel('Loss')\n",
    "plt.legend()\n",
    "plt.show()\n",
    "\n",
    "plt.plot(history.history['accuracy'], label='Training Accuracy')\n",
    "plt.plot(history.history['val_accuracy'], label='Validation Accuracy')\n",
    "plt.xlabel('Epochs')\n",
    "plt.ylabel('Accuracy')\n",
    "plt.legend()\n",
    "plt.show()\n"
   ]
  },
  {
   "cell_type": "code",
   "execution_count": 156,
   "metadata": {},
   "outputs": [],
   "source": [
    "pd.set_option('display.max_columns', 100)\n",
    "pd.set_option('display.max_colwidth', None)"
   ]
  },
  {
   "cell_type": "code",
   "execution_count": null,
   "metadata": {},
   "outputs": [],
   "source": []
  },
  {
   "cell_type": "code",
   "execution_count": 24,
   "metadata": {},
   "outputs": [],
   "source": [
    "# Função para extrair embeddings dos textos\n",
    "def get_bert_embeddings(texts, tokenizer, bert_model, batch_size=32):\n",
    "    embeddings = []\n",
    "    for i in range(0, len(texts), batch_size):\n",
    "        batch_texts = texts[i:i+batch_size]\n",
    "        inputs = tokenizer(batch_texts, return_tensors='pt', truncation=True, padding=True, max_length=128).to(device)\n",
    "        with torch.no_grad():\n",
    "            outputs = bert_model(**inputs)\n",
    "        batch_embeddings = outputs.last_hidden_state[:, 0, :].detach().cpu().numpy()\n",
    "        embeddings.append(batch_embeddings)\n",
    "        del inputs, outputs\n",
    "        torch.cuda.empty_cache()\n",
    "    return np.vstack(embeddings)\n",
    "\n",
    "def preprocess_input(df, categorical_features, numerical_features, text_columns, tokenizer, bert_model, scaler):\n",
    "    # Remover NaN em 'codigo_solicitado'\n",
    "    df.fillna('', inplace=True)\n",
    "    df.drop_duplicates(inplace=True)\n",
    "\n",
    "    # Processamento dos textos com BERT\n",
    "    # Aplica a função nos campos textuais em batches\n",
    "    text_embeddings = []\n",
    "    for column in text_columns:\n",
    "        embeddings = get_bert_embeddings(df[column].tolist(), tokenizer, bert_model, batch_size=32)\n",
    "        text_embeddings.append(embeddings)\n",
    "    \n",
    "    # Concatenar os embeddings textuais\n",
    "    all_text_embeddings = np.hstack(text_embeddings)\n",
    "    # Verificação das dimensões\n",
    "    if df[numerical_features].shape[0] == all_text_embeddings.shape[0]:\n",
    "        X_final = np.hstack([df[numerical_features], all_text_embeddings])\n",
    "    else:\n",
    "        raise ValueError(\"Dimensões incompatíveis entre X_normalized e text embeddings.\")\n",
    "    \n",
    "    # Normalização dos dados numéricos\n",
    "    X_final = scaler.transform(X_final)\n",
    "   \n",
    "    return X_final\n",
    "\n",
    "def predict(df, model, categorical_features, numerical_features, text_columns, tokenizer, bert_model, scaler, encoder, code_to_description, top_k=5):\n",
    "    X_processed = preprocess_input(df, categorical_features, numerical_features, text_columns, tokenizer, bert_model, scaler)\n",
    "    predictions = model.predict(X_processed)\n",
    "    top_k_indices = np.argsort(predictions, axis=1)[:, -top_k:][:, ::-1]  # Pega os top_k índices, ordenados por probabilidade\n",
    "    top_k_labels = [encoder.inverse_transform(indices) for indices in top_k_indices]\n",
    "    top_k_probabilities = np.sort(predictions, axis=1)[:, -top_k:][:, ::-1]  # Pega as top_k probabilidades, ordenadas\n",
    "    top_k_descriptions = [[code_to_description[label] for label in labels] for labels in top_k_labels]\n",
    "    return top_k_labels, top_k_probabilities, top_k_descriptions"
   ]
  },
  {
   "cell_type": "code",
   "execution_count": 158,
   "metadata": {},
   "outputs": [
    {
     "name": "stderr",
     "output_type": "stream",
     "text": [
      "WARNING:absl:Compiled the loaded model, but the compiled metrics have yet to be built. `model.compile_metrics` will be empty until you train or evaluate the model.\n"
     ]
    },
    {
     "name": "stdout",
     "output_type": "stream",
     "text": [
      "\u001b[1m1/1\u001b[0m \u001b[32m━━━━━━━━━━━━━━━━━━━━\u001b[0m\u001b[37m\u001b[0m \u001b[1m0s\u001b[0m 67ms/step\n",
      "Input 1:\n",
      "  11124973 (SSD 256GB SATAIII SU800FA2 ADATA): 0.6314\n",
      "  11125113 (PROC CORE I5 7400 SR32W TRAY DSK INTEL): 0.2883\n",
      "  11123358 (SSD 256GB SATAIII SU800BR1 ADATA): 0.0543\n",
      "  11126577 (PLM POS-PIB150DR DDR4 ECOFP): 0.0074\n",
      "  11133226 (HDD 500GB 2,5` SATAIII SEAGT ST500LM034): 0.0056\n"
     ]
    }
   ],
   "source": [
    "# Carregando o modelo treinado e outros componentes necessários\n",
    "device = torch.device(\"cuda\" if torch.cuda.is_available() else \"cpu\")\n",
    "\n",
    "tokenizer = BertTokenizer.from_pretrained('bert-base-uncased')\n",
    "bert_model = BertModel.from_pretrained('bert-base-uncased').to(device)\n",
    "\n",
    "# Carregar scaler e encoder treinados\n",
    "scaler = joblib.load('C:\\\\Users\\\\daniel.silva\\\\Documents\\\\cits\\\\desafio I\\\\resultado1\\\\scaler15.pkl')\n",
    "encoder = joblib.load('C:\\\\Users\\\\daniel.silva\\\\Documents\\\\cits\\\\desafio I\\\\resultado1\\\\label_encoder15.pkl')\n",
    "\n",
    "# Carregar o CSV com o mapeamento de 'codigo_solicitado' para suas descrições\n",
    "csv_path = 'C:\\\\Users\\\\daniel.silva\\\\Documents\\\\cits\\\\desafio I\\\\amostra\\\\cod_solic3.csv'\n",
    "code_df = pd.read_csv(csv_path)\n",
    "\n",
    "# Converter o DataFrame em um dicionário\n",
    "code_to_description = dict(zip(code_df['codigo_solicitado'], code_df['cod_solic_desc']))\n",
    "\n",
    "# Definindo as colunas numéricas e categóricas conforme a sua descrição\n",
    "numerical_features = ['abertura_id','modelo']\n",
    "categorical_features = ['conserto', 'encerrado_bi', 'cod_solucao', 'grupo_posic', 'posicao_cod_inter', 'posic_descricao', 'material', 'tipo_equipamento', 'cod_aplic', 'cod_aplic_desc', 'nf', 'defeitos_reclamado_cod_aux', 'codigo_solucao', 'serial_ant', 'serial_nov', 'serie', 'numero_serie', 'situacao', 'tipo', 'enc', 'encdesc']\n",
    "text_columns = ['problema', 'tipo_equipamento']\n",
    "\n",
    "# Preparar o dataframe de input\n",
    "df_input = df.sample(1)\n",
    "\n",
    "colunas_desejadas = ['abertura_id','codigo_solicitado','modelo', 'problema', 'tipo_equipamento']\n",
    "df_input = df_input[colunas_desejadas]\n",
    "df_input1 = df_input\n",
    "df_input = df_input.drop(columns=['codigo_solicitado'])\n",
    "\n",
    "# Carregar o modelo\n",
    "model1 = load_model('C:\\\\Users\\\\daniel.silva\\\\Documents\\\\cits\\\\desafio I\\\\resultado1\\\\model15.h5')\n",
    "\n",
    "# Fazer a previsão\n",
    "top_k_labels, top_k_probabilities, top_k_descriptions = predict(df_input, model1, categorical_features, numerical_features, text_columns, tokenizer, bert_model, scaler, encoder, code_to_description, top_k=5)\n",
    "\n",
    "# Exibir as previsões\n",
    "for i, (labels, probabilities, descriptions) in enumerate(zip(top_k_labels, top_k_probabilities, top_k_descriptions)):\n",
    "    print(f\"Input {i+1}:\")\n",
    "    for label, probability, description in zip(labels, probabilities, descriptions):\n",
    "        print(f\"  {label} ({description}): {probability:.4f}\")"
   ]
  },
  {
   "cell_type": "code",
   "execution_count": 159,
   "metadata": {},
   "outputs": [
    {
     "data": {
      "text/html": [
       "<div>\n",
       "<style scoped>\n",
       "    .dataframe tbody tr th:only-of-type {\n",
       "        vertical-align: middle;\n",
       "    }\n",
       "\n",
       "    .dataframe tbody tr th {\n",
       "        vertical-align: top;\n",
       "    }\n",
       "\n",
       "    .dataframe thead th {\n",
       "        text-align: right;\n",
       "    }\n",
       "</style>\n",
       "<table border=\"1\" class=\"dataframe\">\n",
       "  <thead>\n",
       "    <tr style=\"text-align: right;\">\n",
       "      <th></th>\n",
       "      <th>abertura_id</th>\n",
       "      <th>codigo_solicitado</th>\n",
       "      <th>modelo</th>\n",
       "      <th>problema</th>\n",
       "      <th>tipo_equipamento</th>\n",
       "    </tr>\n",
       "  </thead>\n",
       "  <tbody>\n",
       "    <tr>\n",
       "      <th>2782</th>\n",
       "      <td>7428571</td>\n",
       "      <td>11128693</td>\n",
       "      <td>58697</td>\n",
       "      <td>COL?GIO ESTADUAL CEEBJA PINHAO\\nMUNIC?PIO DE PINHAO\\nENDERE?O: R. XV DE NOVEMBRO, S/N - NOSSA SENHORA APAR, PINHAO - PR, 85170000\\nTELEFONE:((42) 3677-2161\\nINEP: 41145879\\nHOR?RIO: 08:00 AS 12:00 13:00  ?S 17:00 H\\nCONTATO: CLAUDIO  DEFEITO: NAO LEVANTA O HD</td>\n",
       "      <td>DESKTOP</td>\n",
       "    </tr>\n",
       "  </tbody>\n",
       "</table>\n",
       "</div>"
      ],
      "text/plain": [
       "      abertura_id codigo_solicitado  modelo  \\\n",
       "2782      7428571          11128693   58697   \n",
       "\n",
       "                                                                                                                                                                                                                                                                 problema  \\\n",
       "2782  COL?GIO ESTADUAL CEEBJA PINHAO\\nMUNIC?PIO DE PINHAO\\nENDERE?O: R. XV DE NOVEMBRO, S/N - NOSSA SENHORA APAR, PINHAO - PR, 85170000\\nTELEFONE:((42) 3677-2161\\nINEP: 41145879\\nHOR?RIO: 08:00 AS 12:00 13:00  ?S 17:00 H\\nCONTATO: CLAUDIO  DEFEITO: NAO LEVANTA O HD   \n",
       "\n",
       "     tipo_equipamento  \n",
       "2782          DESKTOP  "
      ]
     },
     "execution_count": 159,
     "metadata": {},
     "output_type": "execute_result"
    }
   ],
   "source": [
    "df_input1"
   ]
  },
  {
   "cell_type": "code",
   "execution_count": 160,
   "metadata": {},
   "outputs": [
    {
     "data": {
      "text/plain": [
       "2782    SSD 256GB SATA CV6-CQ256 LITEO\n",
       "Name: cod_solic_desc, dtype: object"
      ]
     },
     "execution_count": 160,
     "metadata": {},
     "output_type": "execute_result"
    }
   ],
   "source": [
    "valor = df_input1['abertura_id']\n",
    "resultado =   df1.query('abertura_id == @valor')\n",
    "resultado['cod_solic_desc']\n"
   ]
  },
  {
   "cell_type": "code",
   "execution_count": null,
   "metadata": {},
   "outputs": [],
   "source": []
  },
  {
   "cell_type": "code",
   "execution_count": null,
   "metadata": {},
   "outputs": [],
   "source": []
  },
  {
   "cell_type": "code",
   "execution_count": 63,
   "metadata": {},
   "outputs": [
    {
     "name": "stderr",
     "output_type": "stream",
     "text": [
      "C:\\Users\\daniel.silva\\AppData\\Local\\Temp\\ipykernel_22680\\2872069118.py:13: DtypeWarning: Columns (0,1) have mixed types. Specify dtype option on import or set low_memory=False.\n",
      "  code_df = pd.read_csv(csv_path)\n",
      "WARNING:absl:Compiled the loaded model, but the compiled metrics have yet to be built. `model.compile_metrics` will be empty until you train or evaluate the model.\n"
     ]
    },
    {
     "name": "stdout",
     "output_type": "stream",
     "text": [
      "\u001b[1m1/1\u001b[0m \u001b[32m━━━━━━━━━━━━━━━━━━━━\u001b[0m\u001b[37m\u001b[0m \u001b[1m0s\u001b[0m 37ms/step\n",
      "Input 1:\n",
      "  11150027 (LCD 12 GLARE SL116PP40Y1008 V116N S LOGO): 0.0882\n",
      "  11161415 (PLM V142R-2 2GB 32GB Z8330 DDR3 JABIL JA): 0.0709\n",
      "  11134313 (BATER 2C LI-PO 10000MAH VKING MONT): 0.0629\n",
      "  11145471 (TAMPA COVER D DARK GRAY N14ZP6): 0.0510\n",
      "  11110030 (ADAPT AC/DC ARSENAL S29A00P 40W 2P SALCO): 0.0503\n"
     ]
    }
   ],
   "source": [
    "# Carregando o modelo treinado e outros componentes necessários\n",
    "device = torch.device(\"cuda\" if torch.cuda.is_available() else \"cpu\")\n",
    "\n",
    "tokenizer = BertTokenizer.from_pretrained('bert-base-uncased')\n",
    "bert_model = BertModel.from_pretrained('bert-base-uncased').to(device)\n",
    "\n",
    "# Carregar scaler e encoder treinados\n",
    "scaler = joblib.load('C:\\\\Users\\\\daniel.silva\\\\Documents\\\\cits\\\\desafio I\\\\resultado1\\\\scaler6.pkl')\n",
    "encoder = joblib.load('C:\\\\Users\\\\daniel.silva\\\\Documents\\\\cits\\\\desafio I\\\\resultado1\\\\label_encoder6.pkl')\n",
    "\n",
    "# Carregar o CSV com o mapeamento de 'codigo_solicitado' para suas descrições\n",
    "csv_path = 'C:\\\\Users\\\\daniel.silva\\\\Documents\\\\cits\\\\desafio I\\\\amostra\\\\cod_solic.csv'\n",
    "code_df = pd.read_csv(csv_path)\n",
    "\n",
    "# Converter o DataFrame em um dicionário\n",
    "code_to_description = dict(zip(code_df['codigo_solicitado'], code_df['cod_solic_desc']))\n",
    "\n",
    "# Definindo as colunas numéricas e categóricas conforme a sua descrição\n",
    "numerical_features = ['abertura_id','modelo']\n",
    "categorical_features = ['conserto', 'encerrado_bi', 'cod_solucao', 'grupo_posic', 'posicao_cod_inter', 'posic_descricao', 'material', 'tipo_equipamento', 'cod_aplic', 'cod_aplic_desc', 'nf', 'defeitos_reclamado_cod_aux', 'codigo_solucao', 'serial_ant', 'serial_nov', 'serie', 'numero_serie', 'situacao', 'tipo', 'enc', 'encdesc']\n",
    "text_columns = ['problema', 'tipo_equipamento']\n",
    "\n",
    "# Preparar o dataframe de input\n",
    "df_input = df.sample(1)\n",
    "\n",
    "colunas_desejadas = ['abertura_id','codigo_solicitado','modelo', 'problema', 'tipo_equipamento']\n",
    "df_input = df_input[colunas_desejadas]\n",
    "df_input1 = df_input\n",
    "df_input = df_input.drop(columns=['codigo_solicitado'])\n",
    "\n",
    "# Carregar o modelo\n",
    "model1 = load_model('C:\\\\Users\\\\daniel.silva\\\\Documents\\\\cits\\\\desafio I\\\\resultado1\\\\model6.h5')\n",
    "\n",
    "# Fazer a previsão\n",
    "top_k_labels, top_k_probabilities, top_k_descriptions = predict(df_input, model1, categorical_features, numerical_features, text_columns, tokenizer, bert_model, scaler, encoder, code_to_description, top_k=5)\n",
    "\n",
    "# Exibir as previsões\n",
    "for i, (labels, probabilities, descriptions) in enumerate(zip(top_k_labels, top_k_probabilities, top_k_descriptions)):\n",
    "    print(f\"Input {i+1}:\")\n",
    "    for label, probability, description in zip(labels, probabilities, descriptions):\n",
    "        print(f\"  {label} ({description}): {probability:.4f}\")"
   ]
  },
  {
   "cell_type": "code",
   "execution_count": 64,
   "metadata": {},
   "outputs": [
    {
     "data": {
      "text/html": [
       "<div>\n",
       "<style scoped>\n",
       "    .dataframe tbody tr th:only-of-type {\n",
       "        vertical-align: middle;\n",
       "    }\n",
       "\n",
       "    .dataframe tbody tr th {\n",
       "        vertical-align: top;\n",
       "    }\n",
       "\n",
       "    .dataframe thead th {\n",
       "        text-align: right;\n",
       "    }\n",
       "</style>\n",
       "<table border=\"1\" class=\"dataframe\">\n",
       "  <thead>\n",
       "    <tr style=\"text-align: right;\">\n",
       "      <th></th>\n",
       "      <th>abertura_id</th>\n",
       "      <th>codigo_solicitado</th>\n",
       "      <th>modelo</th>\n",
       "      <th>problema</th>\n",
       "      <th>tipo_equipamento</th>\n",
       "    </tr>\n",
       "  </thead>\n",
       "  <tbody>\n",
       "    <tr>\n",
       "      <th>3206</th>\n",
       "      <td>7443023</td>\n",
       "      <td>11161415</td>\n",
       "      <td>78501</td>\n",
       "      <td>FUNCIONAL</td>\n",
       "      <td>NOTEBOOK</td>\n",
       "    </tr>\n",
       "  </tbody>\n",
       "</table>\n",
       "</div>"
      ],
      "text/plain": [
       "      abertura_id codigo_solicitado  modelo   problema tipo_equipamento\n",
       "3206      7443023          11161415   78501  FUNCIONAL         NOTEBOOK"
      ]
     },
     "execution_count": 64,
     "metadata": {},
     "output_type": "execute_result"
    }
   ],
   "source": [
    "df_input1 # dado original - peça que foi solicitada - codigo_solicitado original"
   ]
  }
 ],
 "metadata": {
  "kernelspec": {
   "display_name": "tensor",
   "language": "python",
   "name": "python3"
  },
  "language_info": {
   "codemirror_mode": {
    "name": "ipython",
    "version": 3
   },
   "file_extension": ".py",
   "mimetype": "text/x-python",
   "name": "python",
   "nbconvert_exporter": "python",
   "pygments_lexer": "ipython3",
   "version": "3.10.14"
  }
 },
 "nbformat": 4,
 "nbformat_minor": 2
}
